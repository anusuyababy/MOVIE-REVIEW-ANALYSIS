{
  "nbformat": 4,
  "nbformat_minor": 0,
  "metadata": {
    "colab": {
      "name": "KEYWORD EXTRACTION USING KEYBERT",
      "provenance": []
    },
    "kernelspec": {
      "name": "python3",
      "display_name": "Python 3"
    },
    "language_info": {
      "name": "python"
    }
  },
  "cells": [
    {
      "cell_type": "markdown",
      "metadata": {
        "id": "f14Qdp4QVFYn"
      },
      "source": [
        "#KEYWORD EXTRACTION, LDA AND SIMILARITY WORDS BY USING BERT"
      ]
    },
    {
      "cell_type": "code",
      "metadata": {
        "id": "ne7K3aRHF2uW"
      },
      "source": [
        "# importing libraries\n",
        "import re\n",
        "import pandas as pd\n",
        "import numpy as np"
      ],
      "execution_count": 1,
      "outputs": []
    },
    {
      "cell_type": "code",
      "metadata": {
        "colab": {
          "base_uri": "https://localhost:8080/"
        },
        "id": "nKw9MEvAKgbp",
        "outputId": "b89995b3-99ea-4a94-af4e-7e72275f0e9a"
      },
      "source": [
        "!pip install keybert"
      ],
      "execution_count": 2,
      "outputs": [
        {
          "output_type": "stream",
          "text": [
            "Collecting keybert\n",
            "  Downloading https://files.pythonhosted.org/packages/5d/f4/65853bfc2ded495af3341a3f8938f17799d15a65be0150cb57774e1fb59f/keybert-0.2.0.tar.gz\n",
            "Collecting sentence-transformers>=0.3.8\n",
            "\u001b[?25l  Downloading https://files.pythonhosted.org/packages/6f/4d/9fb1028b0b4645c77401417151d06122d745c7a874fda6a4d5e6bb7bebc6/sentence-transformers-1.0.3.tar.gz (74kB)\n",
            "\u001b[K     |████████████████████████████████| 81kB 5.2MB/s \n",
            "\u001b[?25hRequirement already satisfied: scikit-learn>=0.22.2 in /usr/local/lib/python3.7/dist-packages (from keybert) (0.22.2.post1)\n",
            "Requirement already satisfied: numpy>=1.18.5 in /usr/local/lib/python3.7/dist-packages (from keybert) (1.19.5)\n",
            "Collecting transformers<5.0.0,>=3.1.0\n",
            "\u001b[?25l  Downloading https://files.pythonhosted.org/packages/ed/d5/f4157a376b8a79489a76ce6cfe147f4f3be1e029b7144fa7b8432e8acb26/transformers-4.4.2-py3-none-any.whl (2.0MB)\n",
            "\u001b[K     |████████████████████████████████| 2.0MB 10.6MB/s \n",
            "\u001b[?25hRequirement already satisfied: tqdm in /usr/local/lib/python3.7/dist-packages (from sentence-transformers>=0.3.8->keybert) (4.41.1)\n",
            "Requirement already satisfied: torch>=1.6.0 in /usr/local/lib/python3.7/dist-packages (from sentence-transformers>=0.3.8->keybert) (1.8.0+cu101)\n",
            "Requirement already satisfied: scipy in /usr/local/lib/python3.7/dist-packages (from sentence-transformers>=0.3.8->keybert) (1.4.1)\n",
            "Requirement already satisfied: nltk in /usr/local/lib/python3.7/dist-packages (from sentence-transformers>=0.3.8->keybert) (3.2.5)\n",
            "Collecting sentencepiece\n",
            "\u001b[?25l  Downloading https://files.pythonhosted.org/packages/f5/99/e0808cb947ba10f575839c43e8fafc9cc44e4a7a2c8f79c60db48220a577/sentencepiece-0.1.95-cp37-cp37m-manylinux2014_x86_64.whl (1.2MB)\n",
            "\u001b[K     |████████████████████████████████| 1.2MB 19.9MB/s \n",
            "\u001b[?25hRequirement already satisfied: joblib>=0.11 in /usr/local/lib/python3.7/dist-packages (from scikit-learn>=0.22.2->keybert) (1.0.1)\n",
            "Requirement already satisfied: filelock in /usr/local/lib/python3.7/dist-packages (from transformers<5.0.0,>=3.1.0->sentence-transformers>=0.3.8->keybert) (3.0.12)\n",
            "Requirement already satisfied: importlib-metadata; python_version < \"3.8\" in /usr/local/lib/python3.7/dist-packages (from transformers<5.0.0,>=3.1.0->sentence-transformers>=0.3.8->keybert) (3.7.2)\n",
            "Collecting tokenizers<0.11,>=0.10.1\n",
            "\u001b[?25l  Downloading https://files.pythonhosted.org/packages/71/23/2ddc317b2121117bf34dd00f5b0de194158f2a44ee2bf5e47c7166878a97/tokenizers-0.10.1-cp37-cp37m-manylinux2010_x86_64.whl (3.2MB)\n",
            "\u001b[K     |████████████████████████████████| 3.2MB 45.8MB/s \n",
            "\u001b[?25hRequirement already satisfied: regex!=2019.12.17 in /usr/local/lib/python3.7/dist-packages (from transformers<5.0.0,>=3.1.0->sentence-transformers>=0.3.8->keybert) (2019.12.20)\n",
            "Requirement already satisfied: packaging in /usr/local/lib/python3.7/dist-packages (from transformers<5.0.0,>=3.1.0->sentence-transformers>=0.3.8->keybert) (20.9)\n",
            "Requirement already satisfied: requests in /usr/local/lib/python3.7/dist-packages (from transformers<5.0.0,>=3.1.0->sentence-transformers>=0.3.8->keybert) (2.23.0)\n",
            "Collecting sacremoses\n",
            "\u001b[?25l  Downloading https://files.pythonhosted.org/packages/7d/34/09d19aff26edcc8eb2a01bed8e98f13a1537005d31e95233fd48216eed10/sacremoses-0.0.43.tar.gz (883kB)\n",
            "\u001b[K     |████████████████████████████████| 890kB 52.2MB/s \n",
            "\u001b[?25hRequirement already satisfied: typing-extensions in /usr/local/lib/python3.7/dist-packages (from torch>=1.6.0->sentence-transformers>=0.3.8->keybert) (3.7.4.3)\n",
            "Requirement already satisfied: six in /usr/local/lib/python3.7/dist-packages (from nltk->sentence-transformers>=0.3.8->keybert) (1.15.0)\n",
            "Requirement already satisfied: zipp>=0.5 in /usr/local/lib/python3.7/dist-packages (from importlib-metadata; python_version < \"3.8\"->transformers<5.0.0,>=3.1.0->sentence-transformers>=0.3.8->keybert) (3.4.1)\n",
            "Requirement already satisfied: pyparsing>=2.0.2 in /usr/local/lib/python3.7/dist-packages (from packaging->transformers<5.0.0,>=3.1.0->sentence-transformers>=0.3.8->keybert) (2.4.7)\n",
            "Requirement already satisfied: chardet<4,>=3.0.2 in /usr/local/lib/python3.7/dist-packages (from requests->transformers<5.0.0,>=3.1.0->sentence-transformers>=0.3.8->keybert) (3.0.4)\n",
            "Requirement already satisfied: idna<3,>=2.5 in /usr/local/lib/python3.7/dist-packages (from requests->transformers<5.0.0,>=3.1.0->sentence-transformers>=0.3.8->keybert) (2.10)\n",
            "Requirement already satisfied: certifi>=2017.4.17 in /usr/local/lib/python3.7/dist-packages (from requests->transformers<5.0.0,>=3.1.0->sentence-transformers>=0.3.8->keybert) (2020.12.5)\n",
            "Requirement already satisfied: urllib3!=1.25.0,!=1.25.1,<1.26,>=1.21.1 in /usr/local/lib/python3.7/dist-packages (from requests->transformers<5.0.0,>=3.1.0->sentence-transformers>=0.3.8->keybert) (1.24.3)\n",
            "Requirement already satisfied: click in /usr/local/lib/python3.7/dist-packages (from sacremoses->transformers<5.0.0,>=3.1.0->sentence-transformers>=0.3.8->keybert) (7.1.2)\n",
            "Building wheels for collected packages: keybert, sentence-transformers, sacremoses\n",
            "  Building wheel for keybert (setup.py) ... \u001b[?25l\u001b[?25hdone\n",
            "  Created wheel for keybert: filename=keybert-0.2.0-cp37-none-any.whl size=10599 sha256=1fb3c606908b28fbba7ee711c1f3cfcea1ed2bcb55f21b72bd7bf6f51fb404d7\n",
            "  Stored in directory: /root/.cache/pip/wheels/59/d7/16/04bab6677a4dfa9fd8ab2b350bac915d60f5378b83d6f5a372\n",
            "  Building wheel for sentence-transformers (setup.py) ... \u001b[?25l\u001b[?25hdone\n",
            "  Created wheel for sentence-transformers: filename=sentence_transformers-1.0.3-cp37-none-any.whl size=114277 sha256=c5cc67ecd221ce49b76c9cea79848c8c6c3eaba988c9b9de77aebe5b5ceb1850\n",
            "  Stored in directory: /root/.cache/pip/wheels/c8/0d/fa/4e28cf045da4781344e7972befb2fdf306051b225bfc290187\n",
            "  Building wheel for sacremoses (setup.py) ... \u001b[?25l\u001b[?25hdone\n",
            "  Created wheel for sacremoses: filename=sacremoses-0.0.43-cp37-none-any.whl size=893262 sha256=75aa8aacb0c738d6b30a62bac83e6a3e1cfcf298269c5c0b8fbb468f8bdc6f1e\n",
            "  Stored in directory: /root/.cache/pip/wheels/29/3c/fd/7ce5c3f0666dab31a50123635e6fb5e19ceb42ce38d4e58f45\n",
            "Successfully built keybert sentence-transformers sacremoses\n",
            "Installing collected packages: tokenizers, sacremoses, transformers, sentencepiece, sentence-transformers, keybert\n",
            "Successfully installed keybert-0.2.0 sacremoses-0.0.43 sentence-transformers-1.0.3 sentencepiece-0.1.95 tokenizers-0.10.1 transformers-4.4.2\n"
          ],
          "name": "stdout"
        }
      ]
    },
    {
      "cell_type": "code",
      "metadata": {
        "colab": {
          "base_uri": "https://localhost:8080/"
        },
        "id": "pZZlcqWAKgh5",
        "outputId": "6f71b561-4326-4035-bbfc-8b079f05ac66"
      },
      "source": [
        "!pip install keybert[flair]"
      ],
      "execution_count": 4,
      "outputs": [
        {
          "output_type": "stream",
          "text": [
            "Requirement already satisfied: keybert[flair] in /usr/local/lib/python3.7/dist-packages (0.2.0)\n",
            "Requirement already satisfied: sentence-transformers>=0.3.8 in /usr/local/lib/python3.7/dist-packages (from keybert[flair]) (1.0.3)\n",
            "Requirement already satisfied: numpy>=1.18.5 in /usr/local/lib/python3.7/dist-packages (from keybert[flair]) (1.19.5)\n",
            "Requirement already satisfied: scikit-learn>=0.22.2 in /usr/local/lib/python3.7/dist-packages (from keybert[flair]) (0.22.2.post1)\n",
            "Collecting flair==0.7; extra == \"flair\"\n",
            "\u001b[?25l  Downloading https://files.pythonhosted.org/packages/68/a0/a1b41fa2fcb23ff71ba9148af75211dcccc35b256dea821b36e1ee871848/flair-0.7-py3-none-any.whl (448kB)\n",
            "\u001b[K     |████████████████████████████████| 450kB 7.7MB/s \n",
            "\u001b[?25hRequirement already satisfied: scipy in /usr/local/lib/python3.7/dist-packages (from sentence-transformers>=0.3.8->keybert[flair]) (1.4.1)\n",
            "Requirement already satisfied: nltk in /usr/local/lib/python3.7/dist-packages (from sentence-transformers>=0.3.8->keybert[flair]) (3.2.5)\n",
            "Requirement already satisfied: torch>=1.6.0 in /usr/local/lib/python3.7/dist-packages (from sentence-transformers>=0.3.8->keybert[flair]) (1.8.0+cu101)\n",
            "Requirement already satisfied: transformers<5.0.0,>=3.1.0 in /usr/local/lib/python3.7/dist-packages (from sentence-transformers>=0.3.8->keybert[flair]) (4.4.2)\n",
            "Requirement already satisfied: sentencepiece in /usr/local/lib/python3.7/dist-packages (from sentence-transformers>=0.3.8->keybert[flair]) (0.1.95)\n",
            "Requirement already satisfied: tqdm in /usr/local/lib/python3.7/dist-packages (from sentence-transformers>=0.3.8->keybert[flair]) (4.41.1)\n",
            "Requirement already satisfied: joblib>=0.11 in /usr/local/lib/python3.7/dist-packages (from scikit-learn>=0.22.2->keybert[flair]) (1.0.1)\n",
            "Collecting janome\n",
            "\u001b[?25l  Downloading https://files.pythonhosted.org/packages/a8/63/98858cbead27df7536c7e300c169da0999e9704d02220dc6700b804eeff0/Janome-0.4.1-py2.py3-none-any.whl (19.7MB)\n",
            "\u001b[K     |████████████████████████████████| 19.7MB 1.3MB/s \n",
            "\u001b[?25hCollecting mpld3==0.3\n",
            "\u001b[?25l  Downloading https://files.pythonhosted.org/packages/91/95/a52d3a83d0a29ba0d6898f6727e9858fe7a43f6c2ce81a5fe7e05f0f4912/mpld3-0.3.tar.gz (788kB)\n",
            "\u001b[K     |████████████████████████████████| 798kB 36.2MB/s \n",
            "\u001b[?25hCollecting konoha<5.0.0,>=4.0.0\n",
            "  Downloading https://files.pythonhosted.org/packages/02/be/4dd30d56a0a19619deb9bf41ba8202709fa83b1b301b876572cd6dc38117/konoha-4.6.4-py3-none-any.whl\n",
            "Requirement already satisfied: matplotlib>=2.2.3 in /usr/local/lib/python3.7/dist-packages (from flair==0.7; extra == \"flair\"->keybert[flair]) (3.2.2)\n",
            "Collecting deprecated>=1.2.4\n",
            "  Downloading https://files.pythonhosted.org/packages/fb/73/994edfcba74443146c84b91921fcc269374354118d4f452fb0c54c1cbb12/Deprecated-1.2.12-py2.py3-none-any.whl\n",
            "Collecting langdetect\n",
            "\u001b[?25l  Downloading https://files.pythonhosted.org/packages/56/a3/8407c1e62d5980188b4acc45ef3d94b933d14a2ebc9ef3505f22cf772570/langdetect-1.0.8.tar.gz (981kB)\n",
            "\u001b[K     |████████████████████████████████| 983kB 47.4MB/s \n",
            "\u001b[?25hCollecting segtok>=1.5.7\n",
            "  Downloading https://files.pythonhosted.org/packages/41/08/582dab5f4b1d5ca23bc6927b4bb977c8ff7f3a87a3b98844ef833e2f5623/segtok-1.5.10.tar.gz\n",
            "Requirement already satisfied: hyperopt>=0.1.1 in /usr/local/lib/python3.7/dist-packages (from flair==0.7; extra == \"flair\"->keybert[flair]) (0.1.2)\n",
            "Collecting sqlitedict>=1.6.0\n",
            "  Downloading https://files.pythonhosted.org/packages/5c/2d/b1d99e9ad157dd7de9cd0d36a8a5876b13b55e4b75f7498bc96035fb4e96/sqlitedict-1.7.0.tar.gz\n",
            "Requirement already satisfied: gensim<=3.8.3,>=3.4.0 in /usr/local/lib/python3.7/dist-packages (from flair==0.7; extra == \"flair\"->keybert[flair]) (3.6.0)\n",
            "Requirement already satisfied: tabulate in /usr/local/lib/python3.7/dist-packages (from flair==0.7; extra == \"flair\"->keybert[flair]) (0.8.9)\n",
            "Requirement already satisfied: lxml in /usr/local/lib/python3.7/dist-packages (from flair==0.7; extra == \"flair\"->keybert[flair]) (4.2.6)\n",
            "Collecting bpemb>=0.3.2\n",
            "  Downloading https://files.pythonhosted.org/packages/91/77/3f0f53856e86af32b1d3c86652815277f7b5f880002584eb30db115b6df5/bpemb-0.3.2-py3-none-any.whl\n",
            "Collecting ftfy\n",
            "\u001b[?25l  Downloading https://files.pythonhosted.org/packages/04/06/e5c80e2e0f979628d47345efba51f7ba386fe95963b11c594209085f5a9b/ftfy-5.9.tar.gz (66kB)\n",
            "\u001b[K     |████████████████████████████████| 71kB 9.5MB/s \n",
            "\u001b[?25hRequirement already satisfied: gdown in /usr/local/lib/python3.7/dist-packages (from flair==0.7; extra == \"flair\"->keybert[flair]) (3.6.4)\n",
            "Requirement already satisfied: python-dateutil>=2.6.1 in /usr/local/lib/python3.7/dist-packages (from flair==0.7; extra == \"flair\"->keybert[flair]) (2.8.1)\n",
            "Requirement already satisfied: regex in /usr/local/lib/python3.7/dist-packages (from flair==0.7; extra == \"flair\"->keybert[flair]) (2019.12.20)\n",
            "Requirement already satisfied: six in /usr/local/lib/python3.7/dist-packages (from nltk->sentence-transformers>=0.3.8->keybert[flair]) (1.15.0)\n",
            "Requirement already satisfied: typing-extensions in /usr/local/lib/python3.7/dist-packages (from torch>=1.6.0->sentence-transformers>=0.3.8->keybert[flair]) (3.7.4.3)\n",
            "Requirement already satisfied: filelock in /usr/local/lib/python3.7/dist-packages (from transformers<5.0.0,>=3.1.0->sentence-transformers>=0.3.8->keybert[flair]) (3.0.12)\n",
            "Requirement already satisfied: packaging in /usr/local/lib/python3.7/dist-packages (from transformers<5.0.0,>=3.1.0->sentence-transformers>=0.3.8->keybert[flair]) (20.9)\n",
            "Requirement already satisfied: importlib-metadata; python_version < \"3.8\" in /usr/local/lib/python3.7/dist-packages (from transformers<5.0.0,>=3.1.0->sentence-transformers>=0.3.8->keybert[flair]) (3.7.2)\n",
            "Requirement already satisfied: sacremoses in /usr/local/lib/python3.7/dist-packages (from transformers<5.0.0,>=3.1.0->sentence-transformers>=0.3.8->keybert[flair]) (0.0.43)\n",
            "Requirement already satisfied: requests in /usr/local/lib/python3.7/dist-packages (from transformers<5.0.0,>=3.1.0->sentence-transformers>=0.3.8->keybert[flair]) (2.23.0)\n",
            "Requirement already satisfied: tokenizers<0.11,>=0.10.1 in /usr/local/lib/python3.7/dist-packages (from transformers<5.0.0,>=3.1.0->sentence-transformers>=0.3.8->keybert[flair]) (0.10.1)\n",
            "Collecting overrides<4.0.0,>=3.0.0\n",
            "  Downloading https://files.pythonhosted.org/packages/ff/b1/10f69c00947518e6676bbd43e739733048de64b8dd998e9c2d5a71f44c5d/overrides-3.1.0.tar.gz\n",
            "Requirement already satisfied: kiwisolver>=1.0.1 in /usr/local/lib/python3.7/dist-packages (from matplotlib>=2.2.3->flair==0.7; extra == \"flair\"->keybert[flair]) (1.3.1)\n",
            "Requirement already satisfied: cycler>=0.10 in /usr/local/lib/python3.7/dist-packages (from matplotlib>=2.2.3->flair==0.7; extra == \"flair\"->keybert[flair]) (0.10.0)\n",
            "Requirement already satisfied: pyparsing!=2.0.4,!=2.1.2,!=2.1.6,>=2.0.1 in /usr/local/lib/python3.7/dist-packages (from matplotlib>=2.2.3->flair==0.7; extra == \"flair\"->keybert[flair]) (2.4.7)\n",
            "Requirement already satisfied: wrapt<2,>=1.10 in /usr/local/lib/python3.7/dist-packages (from deprecated>=1.2.4->flair==0.7; extra == \"flair\"->keybert[flair]) (1.12.1)\n",
            "Requirement already satisfied: future in /usr/local/lib/python3.7/dist-packages (from hyperopt>=0.1.1->flair==0.7; extra == \"flair\"->keybert[flair]) (0.16.0)\n",
            "Requirement already satisfied: pymongo in /usr/local/lib/python3.7/dist-packages (from hyperopt>=0.1.1->flair==0.7; extra == \"flair\"->keybert[flair]) (3.11.3)\n",
            "Requirement already satisfied: networkx in /usr/local/lib/python3.7/dist-packages (from hyperopt>=0.1.1->flair==0.7; extra == \"flair\"->keybert[flair]) (2.5)\n",
            "Requirement already satisfied: smart-open>=1.2.1 in /usr/local/lib/python3.7/dist-packages (from gensim<=3.8.3,>=3.4.0->flair==0.7; extra == \"flair\"->keybert[flair]) (4.2.0)\n",
            "Requirement already satisfied: wcwidth in /usr/local/lib/python3.7/dist-packages (from ftfy->flair==0.7; extra == \"flair\"->keybert[flair]) (0.2.5)\n",
            "Requirement already satisfied: zipp>=0.5 in /usr/local/lib/python3.7/dist-packages (from importlib-metadata; python_version < \"3.8\"->transformers<5.0.0,>=3.1.0->sentence-transformers>=0.3.8->keybert[flair]) (3.4.1)\n",
            "Requirement already satisfied: click in /usr/local/lib/python3.7/dist-packages (from sacremoses->transformers<5.0.0,>=3.1.0->sentence-transformers>=0.3.8->keybert[flair]) (7.1.2)\n",
            "Requirement already satisfied: urllib3!=1.25.0,!=1.25.1,<1.26,>=1.21.1 in /usr/local/lib/python3.7/dist-packages (from requests->transformers<5.0.0,>=3.1.0->sentence-transformers>=0.3.8->keybert[flair]) (1.24.3)\n",
            "Requirement already satisfied: certifi>=2017.4.17 in /usr/local/lib/python3.7/dist-packages (from requests->transformers<5.0.0,>=3.1.0->sentence-transformers>=0.3.8->keybert[flair]) (2020.12.5)\n",
            "Requirement already satisfied: idna<3,>=2.5 in /usr/local/lib/python3.7/dist-packages (from requests->transformers<5.0.0,>=3.1.0->sentence-transformers>=0.3.8->keybert[flair]) (2.10)\n",
            "Requirement already satisfied: chardet<4,>=3.0.2 in /usr/local/lib/python3.7/dist-packages (from requests->transformers<5.0.0,>=3.1.0->sentence-transformers>=0.3.8->keybert[flair]) (3.0.4)\n",
            "Requirement already satisfied: decorator>=4.3.0 in /usr/local/lib/python3.7/dist-packages (from networkx->hyperopt>=0.1.1->flair==0.7; extra == \"flair\"->keybert[flair]) (4.4.2)\n",
            "Building wheels for collected packages: mpld3, langdetect, segtok, sqlitedict, ftfy, overrides\n",
            "  Building wheel for mpld3 (setup.py) ... \u001b[?25l\u001b[?25hdone\n",
            "  Created wheel for mpld3: filename=mpld3-0.3-cp37-none-any.whl size=116679 sha256=bb258eec547479cfbe8e1135433806eeb0331db484e0efa1204baa3d5d6dd7fb\n",
            "  Stored in directory: /root/.cache/pip/wheels/c0/47/fb/8a64f89aecfe0059830479308ad42d62e898a3e3cefdf6ba28\n",
            "  Building wheel for langdetect (setup.py) ... \u001b[?25l\u001b[?25hdone\n",
            "  Created wheel for langdetect: filename=langdetect-1.0.8-cp37-none-any.whl size=993193 sha256=d256519c5ee2b8ddf4718c65a85bfdd38dc27e5f41d9c30cbad62bef31768387\n",
            "  Stored in directory: /root/.cache/pip/wheels/8d/b3/aa/6d99de9f3841d7d3d40a60ea06e6d669e8e5012e6c8b947a57\n",
            "  Building wheel for segtok (setup.py) ... \u001b[?25l\u001b[?25hdone\n",
            "  Created wheel for segtok: filename=segtok-1.5.10-cp37-none-any.whl size=25019 sha256=4837aceff73228fea7fb46401d620112083e236adbf3400f36ff0427a6d9b552\n",
            "  Stored in directory: /root/.cache/pip/wheels/b4/39/f6/9ca1c5cabde964d728023b5751c3a206a5c8cc40252321fb6b\n",
            "  Building wheel for sqlitedict (setup.py) ... \u001b[?25l\u001b[?25hdone\n",
            "  Created wheel for sqlitedict: filename=sqlitedict-1.7.0-cp37-none-any.whl size=14376 sha256=d7ab69ed886854199878a52b4acb2aab803c52a1a1b565ef6efbee413b3ab029\n",
            "  Stored in directory: /root/.cache/pip/wheels/cf/c6/4f/2c64a43f041415eb8b8740bd80e15e92f0d46c5e464d8e4b9b\n",
            "  Building wheel for ftfy (setup.py) ... \u001b[?25l\u001b[?25hdone\n",
            "  Created wheel for ftfy: filename=ftfy-5.9-cp37-none-any.whl size=46451 sha256=7da4731ec8bec0cb8258430e393db6d6921af6c7ea5ed283bad0508b94e6b1a5\n",
            "  Stored in directory: /root/.cache/pip/wheels/5e/2e/f0/b07196e8c929114998f0316894a61c752b63bfa3fdd50d2fc3\n",
            "  Building wheel for overrides (setup.py) ... \u001b[?25l\u001b[?25hdone\n",
            "  Created wheel for overrides: filename=overrides-3.1.0-cp37-none-any.whl size=10174 sha256=02d619aa9a67c4974673ec15d78eb9efb0bc5905e1131feedd6445374e1e9467\n",
            "  Stored in directory: /root/.cache/pip/wheels/5c/24/13/6ef8600e6f147c95e595f1289a86a3cc82ed65df57582c65a9\n",
            "Successfully built mpld3 langdetect segtok sqlitedict ftfy overrides\n",
            "\u001b[31mERROR: konoha 4.6.4 has requirement requests<3.0.0,>=2.25.1, but you'll have requests 2.23.0 which is incompatible.\u001b[0m\n",
            "\u001b[31mERROR: flair 0.7 has requirement sentencepiece<=0.1.91, but you'll have sentencepiece 0.1.95 which is incompatible.\u001b[0m\n",
            "\u001b[31mERROR: flair 0.7 has requirement transformers<=3.5.1,>=3.5.0, but you'll have transformers 4.4.2 which is incompatible.\u001b[0m\n",
            "Installing collected packages: janome, mpld3, overrides, konoha, deprecated, langdetect, segtok, sqlitedict, bpemb, ftfy, flair\n",
            "Successfully installed bpemb-0.3.2 deprecated-1.2.12 flair-0.7 ftfy-5.9 janome-0.4.1 konoha-4.6.4 langdetect-1.0.8 mpld3-0.3 overrides-3.1.0 segtok-1.5.10 sqlitedict-1.7.0\n"
          ],
          "name": "stdout"
        }
      ]
    },
    {
      "cell_type": "code",
      "metadata": {
        "id": "fvr0S7g6OWnm"
      },
      "source": [
        "# KEYWORD extraction is the process of extracting the keywords from the given input text.\n",
        "# BERT is a bidirectional transformer model that allows to convert the text to vector form.\n",
        "from keybert import KeyBERT\n",
        "from sentence_transformers import SentenceTransformer\n",
        "\n",
        "sentence_model = SentenceTransformer(\"distilbert-base-nli-mean-tokens\", device=\"cpu\")\n",
        "model = KeyBERT(model=sentence_model)"
      ],
      "execution_count": 11,
      "outputs": []
    },
    {
      "cell_type": "code",
      "metadata": {
        "colab": {
          "base_uri": "https://localhost:8080/",
          "height": 206
        },
        "id": "WvF0y6nQOlfq",
        "outputId": "2df2c809-7ad9-49bc-b5bc-7622a3ad7930"
      },
      "source": [
        "df=pd.read_csv('review.csv')\n",
        "df.head()"
      ],
      "execution_count": 12,
      "outputs": [
        {
          "output_type": "execute_result",
          "data": {
            "text/html": [
              "<div>\n",
              "<style scoped>\n",
              "    .dataframe tbody tr th:only-of-type {\n",
              "        vertical-align: middle;\n",
              "    }\n",
              "\n",
              "    .dataframe tbody tr th {\n",
              "        vertical-align: top;\n",
              "    }\n",
              "\n",
              "    .dataframe thead th {\n",
              "        text-align: right;\n",
              "    }\n",
              "</style>\n",
              "<table border=\"1\" class=\"dataframe\">\n",
              "  <thead>\n",
              "    <tr style=\"text-align: right;\">\n",
              "      <th></th>\n",
              "      <th>Unnamed: 0</th>\n",
              "      <th>review</th>\n",
              "    </tr>\n",
              "  </thead>\n",
              "  <tbody>\n",
              "    <tr>\n",
              "      <th>0</th>\n",
              "      <td>0</td>\n",
              "      <td>It's not really a review but my attempt to exp...</td>\n",
              "    </tr>\n",
              "    <tr>\n",
              "      <th>1</th>\n",
              "      <td>1</td>\n",
              "      <td>Every once in a while a movie comes, that trul...</td>\n",
              "    </tr>\n",
              "    <tr>\n",
              "      <th>2</th>\n",
              "      <td>2</td>\n",
              "      <td>Last night COL Ferry and I (COL Coldwell, both...</td>\n",
              "    </tr>\n",
              "    <tr>\n",
              "      <th>3</th>\n",
              "      <td>3</td>\n",
              "      <td>Nothing was typical about this. Everything was...</td>\n",
              "    </tr>\n",
              "    <tr>\n",
              "      <th>4</th>\n",
              "      <td>4</td>\n",
              "      <td>Legal historians and courtroom drama fans will...</td>\n",
              "    </tr>\n",
              "  </tbody>\n",
              "</table>\n",
              "</div>"
            ],
            "text/plain": [
              "   Unnamed: 0                                             review\n",
              "0           0  It's not really a review but my attempt to exp...\n",
              "1           1  Every once in a while a movie comes, that trul...\n",
              "2           2  Last night COL Ferry and I (COL Coldwell, both...\n",
              "3           3  Nothing was typical about this. Everything was...\n",
              "4           4  Legal historians and courtroom drama fans will..."
            ]
          },
          "metadata": {
            "tags": []
          },
          "execution_count": 12
        }
      ]
    },
    {
      "cell_type": "code",
      "metadata": {
        "colab": {
          "base_uri": "https://localhost:8080/",
          "height": 206
        },
        "id": "OyOvb77JOlid",
        "outputId": "5e4f4334-e4be-47cf-88f3-5192c774bf8c"
      },
      "source": [
        "df.drop(['Unnamed: 0'], inplace=True, axis=1)\n",
        "df.head()"
      ],
      "execution_count": 15,
      "outputs": [
        {
          "output_type": "execute_result",
          "data": {
            "text/html": [
              "<div>\n",
              "<style scoped>\n",
              "    .dataframe tbody tr th:only-of-type {\n",
              "        vertical-align: middle;\n",
              "    }\n",
              "\n",
              "    .dataframe tbody tr th {\n",
              "        vertical-align: top;\n",
              "    }\n",
              "\n",
              "    .dataframe thead th {\n",
              "        text-align: right;\n",
              "    }\n",
              "</style>\n",
              "<table border=\"1\" class=\"dataframe\">\n",
              "  <thead>\n",
              "    <tr style=\"text-align: right;\">\n",
              "      <th></th>\n",
              "      <th>review</th>\n",
              "    </tr>\n",
              "  </thead>\n",
              "  <tbody>\n",
              "    <tr>\n",
              "      <th>0</th>\n",
              "      <td>It's not really a review but my attempt to exp...</td>\n",
              "    </tr>\n",
              "    <tr>\n",
              "      <th>1</th>\n",
              "      <td>Every once in a while a movie comes, that trul...</td>\n",
              "    </tr>\n",
              "    <tr>\n",
              "      <th>2</th>\n",
              "      <td>Last night COL Ferry and I (COL Coldwell, both...</td>\n",
              "    </tr>\n",
              "    <tr>\n",
              "      <th>3</th>\n",
              "      <td>Nothing was typical about this. Everything was...</td>\n",
              "    </tr>\n",
              "    <tr>\n",
              "      <th>4</th>\n",
              "      <td>Legal historians and courtroom drama fans will...</td>\n",
              "    </tr>\n",
              "  </tbody>\n",
              "</table>\n",
              "</div>"
            ],
            "text/plain": [
              "                                              review\n",
              "0  It's not really a review but my attempt to exp...\n",
              "1  Every once in a while a movie comes, that trul...\n",
              "2  Last night COL Ferry and I (COL Coldwell, both...\n",
              "3  Nothing was typical about this. Everything was...\n",
              "4  Legal historians and courtroom drama fans will..."
            ]
          },
          "metadata": {
            "tags": []
          },
          "execution_count": 15
        }
      ]
    },
    {
      "cell_type": "code",
      "metadata": {
        "colab": {
          "base_uri": "https://localhost:8080/"
        },
        "id": "6JJzDRuDOllW",
        "outputId": "ea0a4420-6e5d-4102-e819-3678c59107b5"
      },
      "source": [
        "!pip install sentence_transformers"
      ],
      "execution_count": 16,
      "outputs": [
        {
          "output_type": "stream",
          "text": [
            "Requirement already satisfied: sentence_transformers in /usr/local/lib/python3.7/dist-packages (1.0.3)\n",
            "Requirement already satisfied: tqdm in /usr/local/lib/python3.7/dist-packages (from sentence_transformers) (4.41.1)\n",
            "Requirement already satisfied: nltk in /usr/local/lib/python3.7/dist-packages (from sentence_transformers) (3.2.5)\n",
            "Requirement already satisfied: transformers<5.0.0,>=3.1.0 in /usr/local/lib/python3.7/dist-packages (from sentence_transformers) (4.4.2)\n",
            "Requirement already satisfied: torch>=1.6.0 in /usr/local/lib/python3.7/dist-packages (from sentence_transformers) (1.8.0+cu101)\n",
            "Requirement already satisfied: scikit-learn in /usr/local/lib/python3.7/dist-packages (from sentence_transformers) (0.22.2.post1)\n",
            "Requirement already satisfied: scipy in /usr/local/lib/python3.7/dist-packages (from sentence_transformers) (1.4.1)\n",
            "Requirement already satisfied: sentencepiece in /usr/local/lib/python3.7/dist-packages (from sentence_transformers) (0.1.95)\n",
            "Requirement already satisfied: numpy in /usr/local/lib/python3.7/dist-packages (from sentence_transformers) (1.19.5)\n",
            "Requirement already satisfied: six in /usr/local/lib/python3.7/dist-packages (from nltk->sentence_transformers) (1.15.0)\n",
            "Requirement already satisfied: packaging in /usr/local/lib/python3.7/dist-packages (from transformers<5.0.0,>=3.1.0->sentence_transformers) (20.9)\n",
            "Requirement already satisfied: regex!=2019.12.17 in /usr/local/lib/python3.7/dist-packages (from transformers<5.0.0,>=3.1.0->sentence_transformers) (2019.12.20)\n",
            "Requirement already satisfied: importlib-metadata; python_version < \"3.8\" in /usr/local/lib/python3.7/dist-packages (from transformers<5.0.0,>=3.1.0->sentence_transformers) (3.7.2)\n",
            "Requirement already satisfied: requests in /usr/local/lib/python3.7/dist-packages (from transformers<5.0.0,>=3.1.0->sentence_transformers) (2.23.0)\n",
            "Requirement already satisfied: filelock in /usr/local/lib/python3.7/dist-packages (from transformers<5.0.0,>=3.1.0->sentence_transformers) (3.0.12)\n",
            "Requirement already satisfied: sacremoses in /usr/local/lib/python3.7/dist-packages (from transformers<5.0.0,>=3.1.0->sentence_transformers) (0.0.43)\n",
            "Requirement already satisfied: tokenizers<0.11,>=0.10.1 in /usr/local/lib/python3.7/dist-packages (from transformers<5.0.0,>=3.1.0->sentence_transformers) (0.10.1)\n",
            "Requirement already satisfied: typing-extensions in /usr/local/lib/python3.7/dist-packages (from torch>=1.6.0->sentence_transformers) (3.7.4.3)\n",
            "Requirement already satisfied: joblib>=0.11 in /usr/local/lib/python3.7/dist-packages (from scikit-learn->sentence_transformers) (1.0.1)\n",
            "Requirement already satisfied: pyparsing>=2.0.2 in /usr/local/lib/python3.7/dist-packages (from packaging->transformers<5.0.0,>=3.1.0->sentence_transformers) (2.4.7)\n",
            "Requirement already satisfied: zipp>=0.5 in /usr/local/lib/python3.7/dist-packages (from importlib-metadata; python_version < \"3.8\"->transformers<5.0.0,>=3.1.0->sentence_transformers) (3.4.1)\n",
            "Requirement already satisfied: chardet<4,>=3.0.2 in /usr/local/lib/python3.7/dist-packages (from requests->transformers<5.0.0,>=3.1.0->sentence_transformers) (3.0.4)\n",
            "Requirement already satisfied: idna<3,>=2.5 in /usr/local/lib/python3.7/dist-packages (from requests->transformers<5.0.0,>=3.1.0->sentence_transformers) (2.10)\n",
            "Requirement already satisfied: certifi>=2017.4.17 in /usr/local/lib/python3.7/dist-packages (from requests->transformers<5.0.0,>=3.1.0->sentence_transformers) (2020.12.5)\n",
            "Requirement already satisfied: urllib3!=1.25.0,!=1.25.1,<1.26,>=1.21.1 in /usr/local/lib/python3.7/dist-packages (from requests->transformers<5.0.0,>=3.1.0->sentence_transformers) (1.24.3)\n",
            "Requirement already satisfied: click in /usr/local/lib/python3.7/dist-packages (from sacremoses->transformers<5.0.0,>=3.1.0->sentence_transformers) (7.1.2)\n"
          ],
          "name": "stdout"
        }
      ]
    },
    {
      "cell_type": "code",
      "metadata": {
        "id": "PtqlObG-Olom"
      },
      "source": [
        "# sentence transformers allows me to quickly create high-quality embeddings that work really well for sentence and document level embeddings.\n",
        "from sentence_transformers import SentenceTransformer\n",
        "model = SentenceTransformer('distilbert-base-nli-mean-tokens')"
      ],
      "execution_count": 18,
      "outputs": []
    },
    {
      "cell_type": "code",
      "metadata": {
        "id": "jk8oJAPMR_Cl"
      },
      "source": [
        "from sklearn.feature_extraction.text import CountVectorizer\n",
        "\n",
        "n_gram_range = (1, 1)\n",
        "stop_words = \"english\"\n",
        "\n",
        "# Extract candidate words/phrases\n",
        "# creating a list of candidate keywords and we are going to use Scikit-Learns CountVectorizer. \n",
        "# This allows us to specify the length of the keywords\n",
        "for i in range (len(df['review'])):\n",
        "  count = CountVectorizer(ngram_range=n_gram_range, stop_words=stop_words).fit([df['review'][i]])\n",
        "candidates = count.get_feature_names()"
      ],
      "execution_count": 22,
      "outputs": []
    },
    {
      "cell_type": "code",
      "metadata": {
        "colab": {
          "base_uri": "https://localhost:8080/"
        },
        "id": "tZrLHSfUS-JI",
        "outputId": "81b200cc-f212-40eb-9533-1fabe1deda53"
      },
      "source": [
        "candidates"
      ],
      "execution_count": 23,
      "outputs": [
        {
          "output_type": "execute_result",
          "data": {
            "text/plain": [
              "['acceptable',\n",
              " 'act',\n",
              " 'action',\n",
              " 'amazingly',\n",
              " 'amids',\n",
              " 'ass',\n",
              " 'battling',\n",
              " 'brutally',\n",
              " 'bullet',\n",
              " 'car',\n",
              " 'carries',\n",
              " 'choreographed',\n",
              " 'chris',\n",
              " 'consequences',\n",
              " 'crash',\n",
              " 'darn',\n",
              " 'daunting',\n",
              " 'deeper',\n",
              " 'depiction',\n",
              " 'design',\n",
              " 'drug',\n",
              " 'druglord',\n",
              " 'elevating',\n",
              " 'entire',\n",
              " 'excels',\n",
              " 'exhilarating',\n",
              " 'extracting',\n",
              " 'extraction',\n",
              " 'fantastic',\n",
              " 'fight',\n",
              " 'film',\n",
              " 'films',\n",
              " 'game',\n",
              " 'gorgeous',\n",
              " 'grounded',\n",
              " 'hemsworth',\n",
              " 'honest',\n",
              " 'hostiles',\n",
              " 'impact',\n",
              " 'jon',\n",
              " 'kicking',\n",
              " 'level',\n",
              " 'like',\n",
              " 'long',\n",
              " 'narrative',\n",
              " 'nature',\n",
              " 'paper',\n",
              " 'past',\n",
              " 'pieces',\n",
              " 'proves',\n",
              " 'pulls',\n",
              " 'rake',\n",
              " 'riding',\n",
              " 'scenes',\n",
              " 'seeing',\n",
              " 'set',\n",
              " 'shoulders',\n",
              " 'showcase',\n",
              " 'son',\n",
              " 'sound',\n",
              " 'succeeds',\n",
              " 'takes',\n",
              " 'task',\n",
              " 'tasked',\n",
              " 'thank',\n",
              " 'thankfully',\n",
              " 'thor',\n",
              " 'troubled',\n",
              " 'tyler',\n",
              " 'unapologetically',\n",
              " 'upping',\n",
              " 'vicious',\n",
              " 'violence',\n",
              " 'war',\n",
              " 'warfare',\n",
              " 'way',\n",
              " 'wick',\n",
              " 'wound']"
            ]
          },
          "metadata": {
            "tags": []
          },
          "execution_count": 23
        }
      ]
    },
    {
      "cell_type": "code",
      "metadata": {
        "colab": {
          "base_uri": "https://localhost:8080/"
        },
        "id": "sZXaHgQMTOnm",
        "outputId": "ccfa2b5b-ba8c-4f49-af9e-c1df384773de"
      },
      "source": [
        "len(candidates)"
      ],
      "execution_count": 26,
      "outputs": [
        {
          "output_type": "execute_result",
          "data": {
            "text/plain": [
              "78"
            ]
          },
          "metadata": {
            "tags": []
          },
          "execution_count": 26
        }
      ]
    },
    {
      "cell_type": "code",
      "metadata": {
        "id": "5H61h13vOlrI"
      },
      "source": [
        "# Transforming our df['review'] and candidates into vector form.\n",
        "for i in range (len(df['review'])):\n",
        "  doc_embedding = model.encode([df['review'][i]])\n",
        "candidate_embeddings = model.encode(candidates)"
      ],
      "execution_count": 28,
      "outputs": []
    },
    {
      "cell_type": "code",
      "metadata": {
        "colab": {
          "base_uri": "https://localhost:8080/"
        },
        "id": "wPHvbb5mSNpm",
        "outputId": "3d7a04fc-7218-4ce9-8d95-bdc502011ec9"
      },
      "source": [
        "doc_embedding"
      ],
      "execution_count": 29,
      "outputs": [
        {
          "output_type": "execute_result",
          "data": {
            "text/plain": [
              "array([[-5.59705138e-01, -4.46997643e-01,  9.14788544e-02,\n",
              "        -3.05463254e-01, -3.11736226e-01, -2.09959134e-01,\n",
              "        -5.75127780e-01, -6.31422877e-01,  1.78649509e+00,\n",
              "        -1.08723536e-01,  5.94641745e-01,  9.00190532e-01,\n",
              "        -2.98406422e-01,  1.08541679e+00,  4.01146293e-01,\n",
              "        -1.36593238e-01,  5.87687850e-01, -3.47814262e-02,\n",
              "        -3.57751012e-01,  1.69439703e-01, -3.01448107e-01,\n",
              "         2.32862860e-01,  2.05268428e-01,  1.67361081e+00,\n",
              "        -7.52729893e-01, -3.27578485e-01,  1.53836995e-01,\n",
              "         2.62065917e-01,  3.53177398e-01,  1.02010441e+00,\n",
              "         8.55681539e-01, -1.61452413e-01, -7.29176342e-01,\n",
              "         2.55525231e-01,  6.18275106e-02,  5.71191497e-02,\n",
              "         9.54118490e-01, -1.87598184e-01,  5.06768346e-01,\n",
              "         1.87255055e-01, -1.63049370e-01,  2.61791907e-02,\n",
              "         2.56389350e-01,  4.87515956e-01, -5.18509448e-01,\n",
              "        -5.22496521e-01,  3.70768487e-01, -4.41354692e-01,\n",
              "        -1.02027607e+00, -3.08897626e-02, -1.64228961e-01,\n",
              "         2.62810048e-02, -6.19740188e-01, -5.40812075e-01,\n",
              "         1.85664967e-01, -3.92032683e-01,  6.53758794e-02,\n",
              "        -4.34989892e-02,  8.77394915e-01,  3.69044274e-01,\n",
              "         5.10264993e-01,  9.37007740e-02,  4.49922621e-01,\n",
              "        -7.47187436e-01,  4.74878043e-01, -6.30313516e-01,\n",
              "        -6.23030245e-01,  9.13135946e-01, -6.45315766e-01,\n",
              "        -6.38628379e-02, -3.10556352e-01,  1.72633097e-01,\n",
              "        -2.89060362e-03, -7.04556644e-01,  2.00702652e-01,\n",
              "        -9.31011081e-01,  3.28539878e-01, -8.81444812e-01,\n",
              "        -5.56168675e-01, -3.07911366e-01, -2.09723413e-01,\n",
              "         7.37388432e-01,  1.81195021e-01,  3.28447133e-01,\n",
              "         4.32960838e-01,  9.47456837e-01,  8.77216935e-01,\n",
              "        -6.18599832e-01,  8.24984491e-01,  5.21032751e-01,\n",
              "        -5.42082548e-01,  2.17438396e-02,  7.56631315e-01,\n",
              "         3.64803560e-02, -7.88746476e-02, -6.56596720e-02,\n",
              "        -2.03840479e-01, -7.03049421e-01,  2.32556462e-01,\n",
              "        -6.68219209e-01, -6.38223708e-01,  7.45823860e-01,\n",
              "         3.37612033e-01,  9.20306087e-01,  1.88650876e-01,\n",
              "         3.02556455e-01, -2.77917892e-01,  1.41440183e-01,\n",
              "        -3.97373408e-01, -2.14770272e-01,  5.01385212e-01,\n",
              "         9.59169924e-01,  8.14068317e-01, -1.74692139e-01,\n",
              "        -5.53095281e-01, -1.03485072e+00,  3.10139567e-01,\n",
              "         2.03364417e-01, -7.08475262e-02,  1.68258008e-02,\n",
              "        -2.75921255e-01,  1.04871979e-02,  1.06578243e+00,\n",
              "         6.49062932e-01,  4.32975702e-02, -1.11190844e-02,\n",
              "        -1.28352821e-01,  2.93846726e-01, -7.68791258e-01,\n",
              "        -1.00013502e-01, -4.08626705e-01, -1.99807063e-01,\n",
              "         2.63019651e-01,  3.54228109e-01,  8.78793597e-02,\n",
              "        -2.39017472e-01, -8.17166567e-01,  9.98734534e-02,\n",
              "        -6.85611963e-01, -1.80001616e-01, -9.95326817e-01,\n",
              "        -9.27274823e-01,  7.73633957e-01, -6.10258102e-01,\n",
              "        -2.66487777e-01, -5.61020374e-01, -5.88338614e-01,\n",
              "        -1.35725164e+00,  1.83013499e-01, -4.01336342e-01,\n",
              "        -3.12085468e-02, -4.79559690e-01,  4.28368598e-01,\n",
              "        -7.44925380e-01,  6.36312783e-01,  7.67105222e-01,\n",
              "         9.66711164e-01,  4.82616313e-02,  5.91146886e-01,\n",
              "        -6.94624007e-01, -7.32603550e-01, -3.82125229e-02,\n",
              "         3.87011729e-02,  1.19468905e-01,  2.42376596e-01,\n",
              "        -8.65921855e-01,  2.81988561e-01, -9.58209336e-01,\n",
              "        -5.01461506e-01, -1.41621232e-01, -1.80208251e-01,\n",
              "         2.00771261e-02,  9.45227027e-01, -1.94863841e-01,\n",
              "         8.49232733e-01,  1.81591719e-01,  3.12262803e-01,\n",
              "         2.03749910e-01, -1.81474403e-01, -4.62268054e-01,\n",
              "        -1.22421652e-01, -1.80032492e-01,  1.13491163e-01,\n",
              "         2.43931383e-01, -3.60466480e-01, -7.43945837e-01,\n",
              "         3.41296226e-01, -2.17060536e-01,  2.05911860e-01,\n",
              "         2.99527317e-01,  4.79346961e-01, -2.05428362e-01,\n",
              "        -8.06992352e-01,  5.41372418e-01,  3.49171728e-01,\n",
              "         2.60556519e-01, -7.53884971e-01, -1.07892692e-01,\n",
              "        -2.51017213e-01,  8.10027599e-01, -5.98854601e-01,\n",
              "         1.42047942e-01, -8.68890345e-01, -1.60019577e-01,\n",
              "        -1.32139218e+00, -4.27102000e-01,  8.18380833e-01,\n",
              "        -1.02730870e-01,  8.96127224e-01, -8.47520947e-01,\n",
              "        -1.59520939e-01,  6.31098092e-01,  2.17726424e-01,\n",
              "        -9.16731834e-01,  3.48995268e-01,  1.24291092e-01,\n",
              "        -8.43452811e-01,  2.71505922e-01,  3.30191880e-01,\n",
              "         3.10813218e-01,  2.82530278e-01, -5.16775727e-01,\n",
              "        -2.05555186e-01, -5.54926872e-01,  1.43087238e-01,\n",
              "        -2.52344847e-01, -4.96772408e-01, -4.50193405e-01,\n",
              "         1.12907916e-01, -1.82682067e-01,  3.63571979e-02,\n",
              "         3.14608693e-01, -5.34495294e-01, -1.56817213e-01,\n",
              "         3.46965849e-01, -8.49660188e-02, -1.25759113e+00,\n",
              "        -1.13435090e+00,  9.04863596e-01, -1.05320787e+00,\n",
              "        -9.50145349e-02, -1.10361248e-01,  6.31550550e-01,\n",
              "         3.98804188e-01,  8.11377525e-01,  5.02797008e-01,\n",
              "        -2.77587086e-01, -5.39557397e-01,  9.20307934e-02,\n",
              "         6.59502298e-02, -8.42158139e-01, -8.97934079e-01,\n",
              "        -8.73503208e-01, -8.72092187e-01,  7.52566099e-01,\n",
              "        -6.03938103e-01,  2.09961146e-01, -9.47568297e-01,\n",
              "        -3.49661231e-01,  2.14707881e-01,  2.14669898e-01,\n",
              "        -6.32421732e-01,  7.33800709e-01, -9.91863728e-01,\n",
              "        -2.74789184e-01, -3.50669831e-01, -1.01658642e+00,\n",
              "        -5.95818162e-01, -1.59974754e-01,  1.18169948e-01,\n",
              "        -8.51904213e-01, -7.01294065e-01,  4.21355754e-01,\n",
              "        -2.40097731e-01,  5.58704853e-01,  3.99031304e-02,\n",
              "        -9.52485204e-03, -5.62354445e-01,  5.75773120e-01,\n",
              "         1.85143501e-01,  3.70865554e-01,  7.45720446e-01,\n",
              "         2.38953501e-01, -3.70741993e-01,  2.54685342e-01,\n",
              "        -3.60556394e-01,  2.10370392e-01, -1.10636282e+00,\n",
              "        -2.00902484e-02, -1.17536652e+00, -1.02249905e-03,\n",
              "         3.30724940e-03, -1.66161031e-01,  1.17261481e+00,\n",
              "         4.43468511e-01, -6.19400620e-01,  8.63206863e-01,\n",
              "         7.36464083e-01,  3.16273808e-01,  3.79936583e-03,\n",
              "        -8.79786372e-01,  9.40144777e-01,  1.04693308e-01,\n",
              "         7.42190123e-01,  7.12312400e-01, -2.72550911e-01,\n",
              "         6.21235669e-01, -5.62090516e-01,  5.17572284e-01,\n",
              "        -5.62251806e-01, -2.98397660e-01, -8.51755023e-01,\n",
              "         7.02848613e-01,  5.18538952e-01,  2.13166982e-01,\n",
              "        -1.92635372e-01,  1.09073341e-01, -6.60317764e-03,\n",
              "        -1.50354767e+00, -1.15588772e+00,  1.00296235e+00,\n",
              "        -4.37557548e-01,  6.40002191e-01,  2.92412579e-01,\n",
              "         8.00075531e-01,  1.07370126e+00, -5.93286872e-01,\n",
              "         5.86393833e-01, -3.58993918e-01, -2.83811241e-01,\n",
              "         3.14333737e-01, -6.81733906e-01,  2.46201500e-01,\n",
              "         3.66673797e-01,  8.70736763e-02,  2.18652755e-01,\n",
              "         2.63963699e-01,  5.69387853e-01, -4.63727891e-01,\n",
              "         6.23836100e-01,  8.88338506e-01, -8.25781748e-02,\n",
              "        -1.41933501e-01, -5.02372026e-01,  9.02372897e-02,\n",
              "         3.46136957e-01, -3.12794894e-01, -4.50214237e-01,\n",
              "         1.13312531e+00,  2.46235415e-01, -7.17471182e-01,\n",
              "         1.83833510e-01,  1.18444872e+00, -8.17536533e-01,\n",
              "        -2.06701964e-01, -5.46078920e-01, -5.02869248e-01,\n",
              "         9.07064304e-02,  1.12148654e+00,  3.28531340e-02,\n",
              "        -8.74527767e-02,  2.78779268e-01,  5.82238019e-01,\n",
              "         9.89817604e-02,  4.37514007e-01, -5.09847403e-01,\n",
              "        -1.14936340e+00,  3.14180076e-01, -1.01320848e-01,\n",
              "         3.10728818e-01, -2.93838680e-01,  6.33748472e-01,\n",
              "         3.39095116e-01,  7.51005054e-01,  6.37187719e-01,\n",
              "         1.06492370e-01,  1.27307579e-01,  2.76192248e-01,\n",
              "        -6.62707686e-01, -2.54756421e-01,  3.06279883e-02,\n",
              "         3.42700124e-01, -1.03310287e+00,  6.26352131e-01,\n",
              "        -3.52338374e-01, -1.09957981e+00, -9.58367467e-01,\n",
              "         4.59624790e-02, -8.88449311e-01, -4.67845015e-02,\n",
              "         4.04113442e-01, -1.69165641e-01,  1.07009366e-01,\n",
              "         3.59891877e-02,  1.52159214e-01, -5.14320910e-01,\n",
              "        -5.88873208e-01, -1.43726081e-01, -5.39794683e-01,\n",
              "        -5.17265916e-01, -4.85929430e-01,  2.43707836e-01,\n",
              "         4.86758560e-01,  1.26533198e+00, -2.27559060e-01,\n",
              "        -4.31522846e-01, -2.30458770e-02, -4.32303518e-01,\n",
              "         6.21954322e-01, -6.68596566e-01, -7.29460567e-02,\n",
              "        -5.22105455e-01,  8.21714282e-01, -2.07959443e-01,\n",
              "         6.70947611e-01, -3.85904551e-01, -5.46844244e-01,\n",
              "        -2.96176001e-02, -9.05711710e-01, -5.07813133e-02,\n",
              "         4.67715800e-01,  1.99386746e-01,  1.24719046e-01,\n",
              "        -4.86141220e-02, -8.48019242e-01,  1.95566207e-01,\n",
              "         2.29758590e-01,  6.67545199e-01, -7.09428787e-01,\n",
              "         3.59200060e-01, -9.11474824e-02,  2.54413664e-01,\n",
              "         1.36754251e+00,  5.90112031e-01,  3.51126194e-02,\n",
              "         6.45852149e-01,  1.31106764e-01,  2.23906085e-01,\n",
              "        -5.29342175e-01, -5.50819814e-01,  6.51916116e-02,\n",
              "         3.13533843e-01,  1.91727072e-01,  1.70519364e+00,\n",
              "        -5.22729337e-01, -4.24042046e-01,  3.48030478e-01,\n",
              "        -2.18448788e-01, -4.14245814e-01,  5.35165429e-01,\n",
              "         5.61229587e-01, -4.89960074e-01,  2.06261814e-01,\n",
              "         5.35785675e-01,  4.11862493e-01,  8.76121521e-02,\n",
              "        -3.52831364e-01, -7.77226388e-02, -6.65441513e-01,\n",
              "         3.15121233e-01, -1.70652255e-01, -5.45879781e-01,\n",
              "         5.68564087e-02, -8.01528841e-02, -3.97860736e-01,\n",
              "         3.86510491e-01,  3.26583296e-01,  8.94100219e-02,\n",
              "         5.98370075e-01, -7.61319041e-01, -5.92455804e-01,\n",
              "         3.79358798e-01,  3.92976493e-01, -1.22515641e-01,\n",
              "         3.37116718e-02, -5.54791093e-01,  5.56612551e-01,\n",
              "         4.31651145e-01, -4.58069682e-01, -1.06678569e+00,\n",
              "         6.76066399e-01, -1.60567820e+00, -9.23469543e-01,\n",
              "        -4.15499836e-01,  1.96366772e-01, -7.11506903e-02,\n",
              "        -3.60961527e-01,  6.17789507e-01, -1.13658249e+00,\n",
              "         8.88123140e-02,  2.98486240e-02,  8.87425601e-01,\n",
              "         2.04185806e-02,  4.54896331e-01,  1.01121385e-02,\n",
              "         4.01608169e-01, -5.69278181e-01,  1.00947535e+00,\n",
              "         1.69697683e-04, -4.63747010e-02, -1.70999557e-01,\n",
              "        -6.47305667e-01,  3.88430089e-01, -4.99010980e-01,\n",
              "         3.72295290e-01, -9.15644884e-01,  3.69272888e-01,\n",
              "         7.97507644e-01,  3.78832579e-01,  1.08391094e+00,\n",
              "        -3.69959623e-01, -9.61392447e-02, -6.52534485e-01,\n",
              "        -8.13732266e-01,  2.23604608e-02, -1.67588115e-01,\n",
              "        -7.98818052e-01,  1.06420970e+00,  2.37497792e-01,\n",
              "         1.35642946e-01, -1.15984595e+00, -9.02830422e-01,\n",
              "         6.59312606e-01, -2.47241944e-01,  1.82861164e-01,\n",
              "        -3.72183204e-01, -6.68276131e-01, -7.45090067e-01,\n",
              "        -2.52430171e-01,  5.81593215e-01,  2.97846675e-01,\n",
              "        -5.42933166e-01,  5.26325941e-01, -1.90119952e-01,\n",
              "         2.69305408e-01,  8.18185627e-01,  3.37502301e-01,\n",
              "        -3.93653274e-01,  5.97363949e-01, -1.49959385e-01,\n",
              "         1.14552975e-01,  1.15223154e-01,  1.85040049e-02,\n",
              "        -3.05690199e-01, -2.06498966e-01, -6.00683987e-01,\n",
              "        -1.40849590e-01, -1.13251925e-01, -4.34717298e-01,\n",
              "         6.15879655e-01,  5.23024440e-01,  9.00872052e-01,\n",
              "         5.69168508e-01,  1.72160342e-01,  4.96997476e-01,\n",
              "         1.09538722e+00,  4.17869568e-01, -2.52541333e-01,\n",
              "         4.08681296e-03,  1.24724436e+00, -6.62987053e-01,\n",
              "         7.62510478e-01,  6.19706154e-01, -2.74442434e-01,\n",
              "         3.74205172e-01, -6.68257654e-01, -2.15275198e-01,\n",
              "         1.87854841e-02, -7.53952444e-01,  2.91229010e-01,\n",
              "        -1.15329493e-02, -1.94073260e-01, -1.97966509e-02,\n",
              "        -7.15035319e-01, -1.21440992e-01, -4.23070043e-01,\n",
              "        -9.70487118e-01, -5.88377595e-01, -3.05873662e-01,\n",
              "         9.07889009e-01, -2.53417701e-01, -1.57005880e-02,\n",
              "        -3.07891458e-01,  2.49296784e-01, -2.30332300e-01,\n",
              "        -7.79968798e-02,  2.18765870e-01,  8.46295357e-01,\n",
              "        -3.57913405e-01, -8.76363516e-02, -6.61627889e-01,\n",
              "        -6.30023062e-01, -9.55479443e-02, -2.02450424e-01,\n",
              "         8.69400144e-01, -7.07922354e-02,  6.30599260e-01,\n",
              "         5.71580172e-01,  1.28983304e-01, -4.84569788e-01,\n",
              "         7.04819202e-01, -4.67408001e-01,  3.35577190e-01,\n",
              "         2.13606462e-01,  7.78172672e-01, -5.67564927e-03,\n",
              "         1.09926529e-01,  1.24067098e-01, -2.95200139e-01,\n",
              "         2.01100469e+00,  4.90999013e-01, -5.21847427e-01,\n",
              "        -1.01891480e-01,  7.24012256e-01,  3.29246044e-01,\n",
              "        -1.12556887e+00, -5.17089427e-01, -9.05211449e-01,\n",
              "        -1.83004171e-01, -3.07499945e-01, -4.53657269e-01,\n",
              "        -2.92995185e-01, -7.38098264e-01,  1.00380266e+00,\n",
              "         9.25179839e-01, -9.91043523e-02, -1.20296645e+00,\n",
              "         7.41894960e-01,  1.60204455e-01, -7.69345403e-01,\n",
              "        -1.82125762e-01, -1.78622633e-01,  9.91954505e-01,\n",
              "        -4.68560517e-01, -1.10296643e+00,  4.61859077e-01,\n",
              "        -5.96019983e-01, -1.40524060e-01, -5.09214640e-01,\n",
              "        -1.69332817e-01, -1.74619973e+00, -6.43451929e-01,\n",
              "        -7.63398707e-01,  7.67526209e-01,  1.19213247e+00,\n",
              "         5.65262496e-01, -5.82524061e-01,  6.56198442e-01,\n",
              "        -8.85439217e-02,  1.10202038e+00, -9.40788507e-01,\n",
              "         1.21407723e+00, -3.49315926e-02, -2.22546667e-01,\n",
              "         4.05909121e-01,  6.10903859e-01,  1.70635179e-01,\n",
              "         7.80953914e-02,  6.27697036e-02, -1.06773221e+00,\n",
              "         2.32104342e-02, -8.65274549e-01,  9.70642924e-01,\n",
              "        -2.88343608e-01, -2.38884002e-01,  4.18808252e-01,\n",
              "        -5.27520001e-01, -3.16006154e-01,  3.39746177e-02,\n",
              "         5.89622371e-02,  4.43029881e-01,  8.78904700e-01,\n",
              "        -1.41234374e+00,  9.05987173e-02,  7.15743780e-01,\n",
              "         6.33882642e-01, -1.29453671e+00, -3.55389416e-01,\n",
              "        -6.80781245e-01, -8.36573541e-02, -1.09650493e+00,\n",
              "         2.96275645e-01, -3.88367742e-01, -7.12315261e-01,\n",
              "        -3.05474252e-01, -3.92695516e-01,  3.01824007e-02,\n",
              "         8.25131774e-01,  8.89445424e-01, -8.67380202e-01,\n",
              "         3.36974770e-01, -4.09122586e-01,  8.34612310e-01,\n",
              "        -2.81626582e-01, -1.84893981e-01,  5.26902750e-02,\n",
              "         1.95098281e-01, -1.04912567e+00, -2.02038676e-01,\n",
              "         8.86790603e-02, -9.55633298e-02, -2.47787029e-01,\n",
              "         6.95598572e-02, -1.24027348e+00, -3.47897112e-02,\n",
              "         5.10074496e-01,  4.50234771e-01,  1.78669877e-02,\n",
              "        -1.22295484e-01, -1.44040573e+00,  2.74434328e-01,\n",
              "        -3.09456617e-01,  5.62016815e-02, -5.36495388e-01,\n",
              "        -1.29556000e-01,  1.25380784e-01, -3.95939827e-01,\n",
              "         4.52075750e-01,  2.22111922e-02,  7.13885903e-01,\n",
              "        -7.23730847e-02, -1.90598875e-01, -4.43016410e-01,\n",
              "        -5.03498554e-01, -4.68103439e-01,  2.69958153e-02,\n",
              "         2.75869757e-01,  4.72536124e-02,  5.76001287e-01,\n",
              "        -1.46870270e-01, -4.81080145e-01, -2.20349863e-01,\n",
              "         1.40724555e-01,  6.24632597e-01, -2.55105048e-01,\n",
              "         3.28064382e-01, -7.82030702e-01,  4.03483212e-01,\n",
              "         6.88962191e-02, -9.01903987e-01, -4.20770824e-01,\n",
              "         4.10049200e-01, -3.90465230e-01, -1.69226623e+00,\n",
              "         2.39175931e-01,  6.86595678e-01, -4.75637205e-02,\n",
              "         5.19501388e-01, -4.53663468e-01,  6.68104172e-01,\n",
              "         9.81165469e-02,  4.75737631e-01,  3.91220450e-01,\n",
              "        -6.91261113e-01, -1.92422077e-01,  1.45888746e-01,\n",
              "         1.92383200e-01, -8.76848817e-01,  5.27347624e-02,\n",
              "        -3.01485687e-01,  2.72233158e-01,  9.78151858e-01,\n",
              "         4.33356836e-02, -2.44244277e-01,  3.90573591e-01,\n",
              "         1.88372031e-01,  6.47302449e-01, -6.53224170e-01]], dtype=float32)"
            ]
          },
          "metadata": {
            "tags": []
          },
          "execution_count": 29
        }
      ]
    },
    {
      "cell_type": "code",
      "metadata": {
        "colab": {
          "base_uri": "https://localhost:8080/"
        },
        "id": "vDtR7QsRUDCz",
        "outputId": "a4e90082-61eb-4710-c3cc-4d4cef8c4213"
      },
      "source": [
        "candidate_embeddings"
      ],
      "execution_count": 30,
      "outputs": [
        {
          "output_type": "execute_result",
          "data": {
            "text/plain": [
              "array([[-0.16843271, -0.38405135,  0.339975  , ...,  0.7698284 ,\n",
              "        -0.20785189, -0.21985261],\n",
              "       [-0.08466467, -0.17868547,  0.35186592, ..., -0.24172139,\n",
              "        -0.01389262, -0.1338762 ],\n",
              "       [ 0.02464176, -0.2646859 ,  0.1911884 , ..., -0.05898256,\n",
              "        -0.2796764 , -0.59081274],\n",
              "       ...,\n",
              "       [-0.35578132,  0.01782137,  0.37409398, ..., -0.1977837 ,\n",
              "         0.04601179, -0.29936978],\n",
              "       [-0.2539345 ,  0.00504551,  0.10422641, ..., -0.39702243,\n",
              "        -0.34477615, -0.1691875 ],\n",
              "       [-0.2022525 , -0.67470527,  0.19833225, ..., -0.47600904,\n",
              "         0.46227553, -0.2148201 ]], dtype=float32)"
            ]
          },
          "metadata": {
            "tags": []
          },
          "execution_count": 30
        }
      ]
    },
    {
      "cell_type": "markdown",
      "metadata": {
        "id": "H0Lxdu9RYFIg"
      },
      "source": [
        "To find the candidates that are most similar to the document. The most similar candidates to the document are good keywords/keyphrases for representing the document.\n",
        "To calculate the similarity between candidates and the document, we will be using the cosine similarity between vectors as it performs quite well in high-dimensionality:\n"
      ]
    },
    {
      "cell_type": "markdown",
      "metadata": {
        "id": "jV_3cXNMYV6r"
      },
      "source": [
        "## COSINE SIMILARITY"
      ]
    },
    {
      "cell_type": "code",
      "metadata": {
        "id": "vGkvLzQXUDF6"
      },
      "source": [
        "#Cosine Similarity\n",
        "from sklearn.metrics.pairwise import cosine_similarity\n",
        "\n",
        "top_n = 50\n",
        "distances = cosine_similarity(doc_embedding, candidate_embeddings)\n",
        "keywords = [candidates[index] for index in distances.argsort()[0][-top_n:]]"
      ],
      "execution_count": 35,
      "outputs": []
    },
    {
      "cell_type": "code",
      "metadata": {
        "colab": {
          "base_uri": "https://localhost:8080/"
        },
        "id": "4vO44494UDJM",
        "outputId": "4fdbc619-ac0f-49c0-f1d6-c95fbd67a29a"
      },
      "source": [
        "keywords"
      ],
      "execution_count": 36,
      "outputs": [
        {
          "output_type": "execute_result",
          "data": {
            "text/plain": [
              "['thankfully',\n",
              " 'ass',\n",
              " 'unapologetically',\n",
              " 'hemsworth',\n",
              " 'action',\n",
              " 'fantastic',\n",
              " 'scenes',\n",
              " 'consequences',\n",
              " 'elevating',\n",
              " 'tasked',\n",
              " 'upping',\n",
              " 'succeeds',\n",
              " 'chris',\n",
              " 'riding',\n",
              " 'long',\n",
              " 'deeper',\n",
              " 'showcase',\n",
              " 'extracting',\n",
              " 'game',\n",
              " 'pulls',\n",
              " 'impact',\n",
              " 'troubled',\n",
              " 'gorgeous',\n",
              " 'son',\n",
              " 'jon',\n",
              " 'car',\n",
              " 'excels',\n",
              " 'daunting',\n",
              " 'extraction',\n",
              " 'exhilarating',\n",
              " 'rake',\n",
              " 'hostiles',\n",
              " 'wound',\n",
              " 'tyler',\n",
              " 'kicking',\n",
              " 'drug',\n",
              " 'choreographed',\n",
              " 'film',\n",
              " 'films',\n",
              " 'crash',\n",
              " 'bullet',\n",
              " 'vicious',\n",
              " 'violence',\n",
              " 'battling',\n",
              " 'warfare',\n",
              " 'thor',\n",
              " 'brutally',\n",
              " 'war',\n",
              " 'fight',\n",
              " 'druglord']"
            ]
          },
          "metadata": {
            "tags": []
          },
          "execution_count": 36
        }
      ]
    },
    {
      "cell_type": "code",
      "metadata": {
        "colab": {
          "base_uri": "https://localhost:8080/"
        },
        "id": "-ynUakOsY7p7",
        "outputId": "1ecd6d05-736c-456c-85b1-2ce6ba020efb"
      },
      "source": [
        "len(keywords)"
      ],
      "execution_count": 37,
      "outputs": [
        {
          "output_type": "execute_result",
          "data": {
            "text/plain": [
              "50"
            ]
          },
          "metadata": {
            "tags": []
          },
          "execution_count": 37
        }
      ]
    },
    {
      "cell_type": "markdown",
      "metadata": {
        "id": "eVcFXoUGYc6d"
      },
      "source": [
        "#Finally, we find the top 50 most similar candidates to the input document as the resulting keywords:\n"
      ]
    }
  ]
}